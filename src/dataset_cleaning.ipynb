{
 "cells": [
  {
   "cell_type": "markdown",
   "id": "425a0448-3731-41d0-85ec-3b7c6c17c730",
   "metadata": {},
   "source": [
    "# Bike Rental Demand Dataset Cleaning "
   ]
  },
  {
   "cell_type": "markdown",
   "id": "362f0795-0f54-4711-bd82-bd483712d08e",
   "metadata": {},
   "source": [
    "### Import Packages"
   ]
  },
  {
   "cell_type": "code",
   "execution_count": 26,
   "id": "29834277-479d-49b1-81d2-df6bde9f9150",
   "metadata": {},
   "outputs": [],
   "source": [
    "import numpy as np \n",
    "import pandas as pd\n",
    "import matplotlib.pyplot as plt"
   ]
  },
  {
   "cell_type": "markdown",
   "id": "a9e01a34-f6ac-4ff2-acbc-e345d6b5dbcd",
   "metadata": {},
   "source": [
    "### Load Dataset"
   ]
  },
  {
   "cell_type": "code",
   "execution_count": 54,
   "id": "e4a4c58f-831a-4a08-927d-07c9b54ab82d",
   "metadata": {},
   "outputs": [],
   "source": [
    "data_path =\"C:\\\\Users\\\\sujan\\\\OneDrive\\\\Desktop\\\\Bike-rental-demand-forecasting\\\\data\\\\BikeData.csv\"\n",
    "df = pd.read_csv(data_path,encoding=\"unicode_escape\")"
   ]
  },
  {
   "cell_type": "code",
   "execution_count": 56,
   "id": "9c53003e-706a-4e3a-872b-08e1041dffb3",
   "metadata": {},
   "outputs": [
    {
     "data": {
      "text/plain": [
       "(8760, 14)"
      ]
     },
     "execution_count": 56,
     "metadata": {},
     "output_type": "execute_result"
    }
   ],
   "source": [
    "df.shape\n"
   ]
  },
  {
   "cell_type": "code",
   "execution_count": null,
   "id": "88b56f4d-2cc0-4d08-ba73-85170f6b485c",
   "metadata": {},
   "outputs": [],
   "source": []
  }
 ],
 "metadata": {
  "kernelspec": {
   "display_name": "Python 3 (ipykernel)",
   "language": "python",
   "name": "python3"
  },
  "language_info": {
   "codemirror_mode": {
    "name": "ipython",
    "version": 3
   },
   "file_extension": ".py",
   "mimetype": "text/x-python",
   "name": "python",
   "nbconvert_exporter": "python",
   "pygments_lexer": "ipython3",
   "version": "3.12.4"
  }
 },
 "nbformat": 4,
 "nbformat_minor": 5
}
